{
 "cells": [
  {
   "cell_type": "code",
   "execution_count": null,
   "source": [
    "from sys import path\r\n",
    "path.append(\"..\")\r\n",
    "from itertools import product\r\n",
    "from Models.TabularClassifier import TabularClassifier\r\n",
    "from Models.Classifier import train,accuracy\r\n",
    "from Datasets_DataLoaders.customDataLoaders import dataLoaderTabular\r\n",
    "from Utilities.dataformater import DataFormater\r\n",
    "\r\n",
    "config = {\r\n",
    "    \"l1\":[2**i for i in range(3,9)],\r\n",
    "    \"l2\":[2**i for i in range(3,9)],\r\n",
    "    \"l3\":[2**i for i in range(3,9)],\r\n",
    "    \"l4\":[2**i for i in range(3,9)]\r\n",
    "}"
   ],
   "outputs": [],
   "metadata": {}
  },
  {
   "cell_type": "code",
   "execution_count": null,
   "source": [
    "def tune(config,trainLoader,valLoader,testLoader,testEpochs=10,learningRate=0.001):\r\n",
    "    '''Tunes NN grid search over layer size.\r\n",
    "    Will soon implement early stopping, learning rate, batch size, and architecture depth.\r\n",
    "    '''\r\n",
    "    modelConfigsToTest = list(product(*[config[param] for param in config]))\r\n",
    "    bestModel = TabularClassifier()\r\n",
    "    bestParams = None\r\n",
    "    _,_,bestModelLoss = train(bestModel,trainLoader,valLoader,epochs=testEpochs)\r\n",
    "    for modelConfig in modelConfigsToTest:\r\n",
    "        model = TabularClassifier(*modelConfig)\r\n",
    "        model,trainLoss,valLoss = train(model,trainLoader,valLoader,epochs=testEpochs,lr=learningRate)\r\n",
    "        if valLoss<=bestModelLoss:\r\n",
    "            bestModel = model\r\n",
    "            bestModelLoss = valLoss\r\n",
    "            bestParams = modelConfig\r\n",
    "    return bestModel,accuracy(bestModel,valLoader),bestParams\r\n",
    "\r\n",
    "X_train,X_validation,X_test,y_train,y_validation,y_test = DataFormater().preProcessing(toNumpy=True)\r\n",
    "trainLoader,valLoader,testLoader = dataLoaderTabular(X_train,X_validation,X_test,y_train,y_validation,y_test)"
   ],
   "outputs": [],
   "metadata": {}
  },
  {
   "cell_type": "code",
   "execution_count": null,
   "source": [
    "model,performance,bestParams = tune(config,trainLoader,valLoader,testLoader)\r\n",
    "print(f\"{performance}:{bestParams}\")"
   ],
   "outputs": [],
   "metadata": {}
  },
  {
   "cell_type": "code",
   "execution_count": null,
   "source": [
    "#test model with best architecture\r\n",
    "model = TabularClassifier(256,64,128,32)\r\n",
    "model,_,_ = train(model,trainLoader,valLoader,epochs=10000,lr=0.01)\r\n",
    "accuracy(model,valLoader)"
   ],
   "outputs": [],
   "metadata": {}
  }
 ],
 "metadata": {
  "orig_nbformat": 4,
  "language_info": {
   "name": "python",
   "version": "3.8.3",
   "mimetype": "text/x-python",
   "codemirror_mode": {
    "name": "ipython",
    "version": 3
   },
   "pygments_lexer": "ipython3",
   "nbconvert_exporter": "python",
   "file_extension": ".py"
  },
  "kernelspec": {
   "name": "python3",
   "display_name": "Python 3.8.3 64-bit"
  },
  "interpreter": {
   "hash": "1baa965d5efe3ac65b79dfc60c0d706280b1da80fedb7760faf2759126c4f253"
  }
 },
 "nbformat": 4,
 "nbformat_minor": 2
}