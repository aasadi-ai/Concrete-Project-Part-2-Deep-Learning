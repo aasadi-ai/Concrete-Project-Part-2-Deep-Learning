{
 "cells": [
  {
   "cell_type": "code",
   "execution_count": 1,
   "source": [
    "from Datasets_DataLoaders.customDatasets import *\r\n",
    "import sys\r\n",
    "sys.path.append(\"C:\\\\Users\\\\afa30\\\\Desktop\\\\concreteNet\")\r\n",
    "import torch\r\n",
    "from Models.Classifier import *\r\n",
    "from Utilities.dataformater import DataFormater\r\n",
    "from Datasets_DataLoaders.customDataLoaders import dataLoaderTabular\r\n",
    "from FeatureEngineering_Selection.featureSelection import *\r\n",
    "from FeatureEngineering_Selection.featureEngineering import *\r\n",
    "import numpy as np"
   ],
   "outputs": [],
   "metadata": {}
  },
  {
   "cell_type": "code",
   "execution_count": null,
   "source": [
    "X_train,X_validation,X_test,y_train,y_validation,y_test = Selector().bestN(17)\r\n",
    "trainData,valData,testData = dataLoaderTabular(np.array(X_train),np.array(X_validation),np.array(X_test),np.array(y_train),np.array(y_validation),np.array(y_test))\r\n",
    "basicNN = BinaryClassifier(\"tab\")\r\n",
    "basicNN,trainLoss,valLoss = train(basicNN,trainData,valData,epochs=1000)\r\n",
    "accuracy(basicNN,valData)"
   ],
   "outputs": [],
   "metadata": {}
  },
  {
   "cell_type": "code",
   "execution_count": null,
   "source": [
    "X_train,X_validation,X_test,y_train,y_validation,y_test = DataFormater().preProcessing(toNumpy=True)\r\n",
    "trainData,valData,testData = dataLoaderTabular(X_train,X_validation,X_test,y_train,y_validation,y_test)\r\n",
    "basicNN = BinaryClassifier(\"tab\")\r\n",
    "basicNN,trainLoss,valLoss = train(basicNN,trainData,valData,epochs=1000)\r\n",
    "accuracy(basicNN,valData)"
   ],
   "outputs": [],
   "metadata": {}
  },
  {
   "cell_type": "code",
   "execution_count": 7,
   "source": [
    "formater = DataFormater()\r\n",
    "#get data, standardize and remove outliers\r\n",
    "X_train,X_validation,X_test,y_train,y_validation,y_test = formater.preProcessing(winsorize=False,standardize=True,toNumpy=False,seed=43)\r\n",
    "#generate novel features\r\n",
    "X_train,X_validation,X_test = featureCreation_All(X_train,X_validation,X_test)\r\n",
    "#standardize before PCA\r\n",
    "X_train,X_validation,X_test = formater.standardizeAll(X_train,X_validation,X_test,useParams=False)\r\n",
    "trainData = ImageFromTabular(X_train,y_train)\r\n",
    "valData = ImageFromTabular(X_validation,y_validation)\r\n",
    "testData = ImageFromTabular(X_test,y_test)\r\n",
    "trainDataLoader = DataLoader(trainData,batch_size=64,shuffle=True)\r\n",
    "validationDataLoader = DataLoader(valData,batch_size=500,shuffle=True)\r\n",
    "testDataLoader = DataLoader(testData,batch_size=64,shuffle=False)\r\n",
    "# imageNN = BinaryClassifier(\"img\")\r\n",
    "# imageNN,trainLoss,valLoss = train(imageNN,trainData,valData,epochs=100)\r\n",
    "# accuracy(basicNN,valData)\r\n",
    "count = 0\r\n",
    "for batchX,batchY in trainDataLoader:\r\n",
    "    img = batchX[0]\r\n",
    "    img = formater.visualizeImg(img.numpy())\r\n",
    "    img = img.convert(\"RGB\")\r\n",
    "    img.save(f\"images/{count}.jpg\")\r\n",
    "    break\r\n"
   ],
   "outputs": [],
   "metadata": {}
  }
 ],
 "metadata": {
  "orig_nbformat": 4,
  "language_info": {
   "name": "python",
   "version": "3.8.3",
   "mimetype": "text/x-python",
   "codemirror_mode": {
    "name": "ipython",
    "version": 3
   },
   "pygments_lexer": "ipython3",
   "nbconvert_exporter": "python",
   "file_extension": ".py"
  },
  "kernelspec": {
   "name": "python3",
   "display_name": "Python 3.8.3 64-bit"
  },
  "interpreter": {
   "hash": "1baa965d5efe3ac65b79dfc60c0d706280b1da80fedb7760faf2759126c4f253"
  }
 },
 "nbformat": 4,
 "nbformat_minor": 2
}