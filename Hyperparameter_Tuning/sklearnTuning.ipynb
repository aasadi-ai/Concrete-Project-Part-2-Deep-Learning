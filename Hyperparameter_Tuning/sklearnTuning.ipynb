{
 "cells": [
  {
   "cell_type": "code",
   "execution_count": 19,
   "source": [
    "from sys import path\r\n",
    "path.append(\"..\")\r\n",
    "import numpy as np\r\n",
    "from Models.Baselines import Baseline\r\n",
    "from Utilities.dataformater import DataFormater\r\n",
    "from FeatureEngineering_Selection.featureSelection import Selector\r\n",
    "from sklearn.neighbors import KNeighborsClassifier\r\n",
    "from sklearn.linear_model import LogisticRegression\r\n",
    "from sklearn.ensemble import GradientBoostingClassifier\r\n",
    "from sklearn.model_selection import GridSearchCV\r\n",
    "from sklearn.metrics import accuracy_score"
   ],
   "outputs": [],
   "metadata": {}
  },
  {
   "cell_type": "code",
   "execution_count": 24,
   "source": [
    "def sklearnModelTuning():\r\n",
    "    formater = DataFormater()\r\n",
    "    X,y = formater.loadData()\r\n",
    "    X,y = np.array(X),np.array(y)\r\n",
    "    models = {\r\n",
    "        \"knn\":KNeighborsClassifier,\r\n",
    "        \"log\":LogisticRegression,\r\n",
    "        \"grad\":GradientBoostingClassifier\r\n",
    "        }\r\n",
    "    paramSets = {\r\n",
    "        \"knn\":{\"n_neighbors\":[5,15,25]},\r\n",
    "        \"log\":{\"C\":[0.01,0.1,1,10,100]},\r\n",
    "        \"grad\":{\"max_depth\":[2,3,4,5],\"n_estimators\":[100,150,200]}\r\n",
    "    }\r\n",
    "    searchers = [GridSearchCV(models[model](),paramSets[model]) for model in models.keys()]\r\n",
    "    for searcher in searchers:\r\n",
    "       searcher.fit(X,y)\r\n",
    "    return searchers\r\n",
    "\r\n",
    "for searchResult in sklearnModelTuning():\r\n",
    "    print(f\"Score:{searchResult.best_score_} Best Params:{searchResult.best_params_}\")\r\n"
   ],
   "outputs": [
    {
     "output_type": "stream",
     "name": "stdout",
     "text": [
      "Score:0.6844660194174758 Best Params:{'n_neighbors': 15}\n",
      "Score:0.8077669902912621 Best Params:{'C': 0.1}\n",
      "Score:0.8087378640776699 Best Params:{'max_depth': 2, 'n_estimators': 100}\n"
     ]
    }
   ],
   "metadata": {}
  },
  {
   "cell_type": "code",
   "execution_count": 25,
   "source": [
    "formater = DataFormater()\r\n",
    "\r\n",
    "Baseline().basline()\r\n",
    "\r\n",
    "#Use hypopt to run with standardization and custom validation set\r\n",
    "#Compare with and without standardization\r\n",
    "#Find best model params\r\n",
    "#Add ensemble\r\n",
    "#Fine tune best Model\r\n",
    "#Set as Sklearn standard"
   ],
   "outputs": [
    {
     "output_type": "error",
     "ename": "TypeError",
     "evalue": "basline() missing 4 required positional arguments: 'X_train', 'X_validation', 'y_train', and 'y_validation'",
     "traceback": [
      "\u001b[1;31m---------------------------------------------------------------------------\u001b[0m",
      "\u001b[1;31mTypeError\u001b[0m                                 Traceback (most recent call last)",
      "\u001b[1;32m~\\AppData\\Local\\Temp/ipykernel_6520/501373137.py\u001b[0m in \u001b[0;36m<module>\u001b[1;34m\u001b[0m\n\u001b[1;32m----> 1\u001b[1;33m \u001b[0mBaseline\u001b[0m\u001b[1;33m(\u001b[0m\u001b[1;33m)\u001b[0m\u001b[1;33m.\u001b[0m\u001b[0mbasline\u001b[0m\u001b[1;33m(\u001b[0m\u001b[1;33m)\u001b[0m\u001b[1;33m\u001b[0m\u001b[1;33m\u001b[0m\u001b[0m\n\u001b[0m",
      "\u001b[1;31mTypeError\u001b[0m: basline() missing 4 required positional arguments: 'X_train', 'X_validation', 'y_train', and 'y_validation'"
     ]
    }
   ],
   "metadata": {}
  }
 ],
 "metadata": {
  "orig_nbformat": 4,
  "language_info": {
   "name": "python",
   "version": "3.8.3",
   "mimetype": "text/x-python",
   "codemirror_mode": {
    "name": "ipython",
    "version": 3
   },
   "pygments_lexer": "ipython3",
   "nbconvert_exporter": "python",
   "file_extension": ".py"
  },
  "kernelspec": {
   "name": "python3",
   "display_name": "Python 3.8.3 64-bit"
  },
  "interpreter": {
   "hash": "1baa965d5efe3ac65b79dfc60c0d706280b1da80fedb7760faf2759126c4f253"
  }
 },
 "nbformat": 4,
 "nbformat_minor": 2
}