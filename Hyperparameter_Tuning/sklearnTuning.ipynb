{
 "cells": [
  {
   "cell_type": "code",
   "execution_count": 4,
   "source": [
    "from sys import path\r\n",
    "path.append(\"..\")\r\n",
    "import numpy as np\r\n",
    "from hypopt import GridSearch\r\n",
    "from Models.Baselines import Baseline\r\n",
    "from Utilities.dataformater import DataFormater\r\n",
    "from FeatureEngineering_Selection.featureSelection import Selector\r\n",
    "from sklearn.neighbors import KNeighborsClassifier\r\n",
    "from sklearn.linear_model import LogisticRegression\r\n",
    "from Models.prototypeEstimator import Prototype\r\n",
    "from sklearn.ensemble import GradientBoostingClassifier,VotingClassifier\r\n",
    "from sklearn.model_selection import GridSearchCV\r\n",
    "from sklearn.metrics import accuracy_score"
   ],
   "outputs": [],
   "metadata": {}
  },
  {
   "cell_type": "code",
   "execution_count": 5,
   "source": [
    "def sklearnModelTuning(X_train,X_validation,X_test,y_train,y_validation,y_test):\r\n",
    "    models = {\r\n",
    "        \"knn\":KNeighborsClassifier,\r\n",
    "        \"log\":LogisticRegression,\r\n",
    "        \"grad\":GradientBoostingClassifier\r\n",
    "        }\r\n",
    "    paramSets = {\r\n",
    "        \"knn\":{\"n_neighbors\":[5,15,25]},\r\n",
    "        \"log\":{\"C\":[0.01,0.1,1,10,100]},\r\n",
    "        \"grad\":{\"max_depth\":[2,3,4,5],\"n_estimators\":[100,150,200]}\r\n",
    "    }\r\n",
    "    searchers = [GridSearch(models[model](),param_grid=paramSets[model],parallelize=False) for model in models.keys()]\r\n",
    "    for searcher in searchers:\r\n",
    "       searcher.fit(X_train,y_train,X_validation,y_validation)\r\n",
    "    return searchers"
   ],
   "outputs": [],
   "metadata": {}
  },
  {
   "cell_type": "code",
   "execution_count": 7,
   "source": [
    "#Find best model params\r\n",
    "formater = DataFormater()\r\n",
    "X_train,X_validation,X_test,y_train,y_validation,y_test = formater.preProcessing(standardize=False,toNumpy=True)\r\n",
    "\r\n",
    "for searchResult in sklearnModelTuning(X_train,X_validation,X_test,y_train,y_validation,y_test):\r\n",
    "    # print(f\"Score:{searchResult.best_score_} Best Params:{searchResult.best_params_}\")\r\n",
    "    print(f\"Score:{searchResult.score(X_validation,y_validation)}\")\r\n",
    "    print(searchResult.best_params)"
   ],
   "outputs": [
    {
     "output_type": "stream",
     "name": "stdout",
     "text": [
      "Score:0.7669902912621359\n",
      "{'n_neighbors': 15}\n",
      "Score:0.8058252427184466\n",
      "{'C': 100}\n",
      "Score:0.9029126213592233\n",
      "{'max_depth': 4, 'n_estimators': 200}\n"
     ]
    },
    {
     "output_type": "execute_result",
     "data": {
      "text/plain": [
       "(0.9029126213592233,\n",
       " 0.7669902912621359,\n",
       " [0.5436893203883495,\n",
       "  0.6601941747572816,\n",
       "  0.8058252427184466,\n",
       "  0.7766990291262136,\n",
       "  0.9029126213592233,\n",
       "  0.7669902912621359])"
      ]
     },
     "metadata": {},
     "execution_count": 7
    }
   ],
   "metadata": {}
  },
  {
   "cell_type": "code",
   "execution_count": null,
   "source": [
    "def ensembleTuned(X_train,y_train,X_validation):\r\n",
    "    '''Ensemble'''\r\n",
    "    model = VotingClassifier([\r\n",
    "        #(\"knn\",KNeighborsClassifier(n_neighbors=15)),\r\n",
    "        (\"LogisticRegression\",LogisticRegression(C=100)),\r\n",
    "        (\"gradientBoosting\",GradientBoostingClassifier(max_depth=4,n_estimators=200))\r\n",
    "        ],voting='soft')\r\n",
    "    model.fit(X_train,y_train)\r\n",
    "    return model.predict(X_validation)\r\n",
    "\r\n",
    "yHat = ensembleTuned(X_train,y_train,X_validation)\r\n",
    "print(accuracy_score(yHat,y_validation))"
   ],
   "outputs": [
    {
     "output_type": "stream",
     "name": "stdout",
     "text": [
      "0.9029126213592233\n"
     ]
    }
   ],
   "metadata": {}
  },
  {
   "cell_type": "code",
   "execution_count": null,
   "source": [
    "X_train,X_validation,X_test,y_train,y_validation,y_test = Selector().bestN(7,toNumpyFlag=True)\r\n",
    "yHat = ensembleTuned(X_train,y_train,X_validation)\r\n",
    "print(accuracy_score(yHat,y_validation))\r\n",
    "#generated Features aren't useful with traditional models, but will be later..."
   ],
   "outputs": [
    {
     "output_type": "stream",
     "name": "stdout",
     "text": [
      "0.8349514563106796\n"
     ]
    }
   ],
   "metadata": {}
  }
 ],
 "metadata": {
  "orig_nbformat": 4,
  "language_info": {
   "name": "python",
   "version": "3.8.3",
   "mimetype": "text/x-python",
   "codemirror_mode": {
    "name": "ipython",
    "version": 3
   },
   "pygments_lexer": "ipython3",
   "nbconvert_exporter": "python",
   "file_extension": ".py"
  },
  "kernelspec": {
   "name": "python3",
   "display_name": "Python 3.8.3 64-bit"
  },
  "interpreter": {
   "hash": "1baa965d5efe3ac65b79dfc60c0d706280b1da80fedb7760faf2759126c4f253"
  }
 },
 "nbformat": 4,
 "nbformat_minor": 2
}