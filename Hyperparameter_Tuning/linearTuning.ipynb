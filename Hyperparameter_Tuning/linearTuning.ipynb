{
 "cells": [
  {
   "cell_type": "code",
   "execution_count": 1,
   "source": [
    "from sys import path\r\n",
    "path.append(\"..\")\r\n",
    "import torch\r\n",
    "from Models.Classifier import *\r\n",
    "from Utilities.dataformater import DataFormater\r\n",
    "from Datasets_DataLoaders.customDataLoaders import dataLoaderTabular\r\n",
    "from FeatureEngineering_Selection.featureSelection import Selector"
   ],
   "outputs": [],
   "metadata": {}
  },
  {
   "cell_type": "code",
   "execution_count": 4,
   "source": [
    "X_train,X_validation,X_test,y_train,y_validation,y_test = DataFormater().preProcessing(toNumpy=True)"
   ],
   "outputs": [],
   "metadata": {}
  },
  {
   "cell_type": "code",
   "execution_count": 8,
   "source": [
    "trainData,valData,testData = dataLoaderTabular(X_train,X_validation,X_test,y_train,y_validation,y_test)\r\n",
    "basicNN = BinaryClassifier(\"tab\")\r\n",
    "basicNN,trainLoss,valLoss = train(basicNN,trainData,valData,epochs=500)\r\n",
    "accuracy(basicNN,valData)"
   ],
   "outputs": [
    {
     "output_type": "stream",
     "name": "stderr",
     "text": [
      "100%|██████████| 500/500 [00:39<00:00, 12.71it/s]\n"
     ]
    },
    {
     "output_type": "execute_result",
     "data": {
      "text/plain": [
       "0.8349514563106796"
      ]
     },
     "metadata": {},
     "execution_count": 8
    }
   ],
   "metadata": {}
  },
  {
   "cell_type": "code",
   "execution_count": null,
   "source": [],
   "outputs": [],
   "metadata": {}
  }
 ],
 "metadata": {
  "orig_nbformat": 4,
  "language_info": {
   "name": "python",
   "version": "3.8.3",
   "mimetype": "text/x-python",
   "codemirror_mode": {
    "name": "ipython",
    "version": 3
   },
   "pygments_lexer": "ipython3",
   "nbconvert_exporter": "python",
   "file_extension": ".py"
  },
  "kernelspec": {
   "name": "python3",
   "display_name": "Python 3.8.3 64-bit"
  },
  "interpreter": {
   "hash": "1baa965d5efe3ac65b79dfc60c0d706280b1da80fedb7760faf2759126c4f253"
  }
 },
 "nbformat": 4,
 "nbformat_minor": 2
}